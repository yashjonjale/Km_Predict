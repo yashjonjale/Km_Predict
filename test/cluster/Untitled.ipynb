{
 "cells": [
  {
   "cell_type": "code",
   "execution_count": 3,
   "metadata": {},
   "outputs": [],
   "source": [
    "import networkx as nx\n",
    "from bokeh.io import output_file, show\n",
    "from bokeh.models import Range1d, Circle, MultiLine, HoverTool\n",
    "from bokeh.plotting import figure, from_networkx\n",
    "from bokeh.transform import linear_cmap\n",
    "from bokeh.palettes import Spectral8\n",
    "\n",
    "# Create a NetworkX graph\n",
    "G = nx.karate_club_graph()\n",
    "\n",
    "# Calculate node degrees\n",
    "degrees = dict(nx.degree(G))\n",
    "nx.set_node_attributes(G, name='degree', values=degrees)\n",
    "\n",
    "# Define Bokeh plot\n",
    "plot = figure(tooltips=[(\"Character\", \"@index\"), (\"Degree\", \"@degree\")],\n",
    "              tools=\"pan,wheel_zoom,save,reset\", active_scroll='wheel_zoom',\n",
    "              x_range=Range1d(-10.1, 10.1), y_range=Range1d(-10.1, 10.1), title='Network Graph')\n",
    "\n",
    "# Create a network graph object\n",
    "network_graph = from_networkx(G, nx.spring_layout, scale=10, center=(0, 0))\n",
    "\n",
    "# Set node sizes and colors according to degree\n",
    "network_graph.node_renderer.glyph = Circle(size=15, fill_color=linear_cmap('degree', Spectral8, 0, max(degrees.values())))\n",
    "\n",
    "# Set edge opacity and width\n",
    "network_graph.edge_renderer.glyph = MultiLine(line_alpha=0.5, line_width=1)\n",
    "\n",
    "plot.renderers.append(network_graph)\n",
    "\n",
    "# Save and show plot\n",
    "output_file(\"interactive_graph.html\")\n",
    "show(plot)\n"
   ]
  }
 ],
 "metadata": {
  "kernelspec": {
   "display_name": "Python 3",
   "language": "python",
   "name": "python3"
  },
  "language_info": {
   "codemirror_mode": {
    "name": "ipython",
    "version": 3
   },
   "file_extension": ".py",
   "mimetype": "text/x-python",
   "name": "python",
   "nbconvert_exporter": "python",
   "pygments_lexer": "ipython3",
   "version": "3.6.5"
  }
 },
 "nbformat": 4,
 "nbformat_minor": 2
}
