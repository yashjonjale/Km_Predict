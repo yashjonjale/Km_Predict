{
 "cells": [
  {
   "cell_type": "code",
   "execution_count": 2,
   "metadata": {},
   "outputs": [],
   "source": [
    "import xgboost as xgb\n",
    "from sklearn.model_selection import train_test_split\n",
    "from sklearn.metrics import accuracy_score, roc_auc_score\n",
    "import numpy as np\n",
    "from sklearn.model_selection import train_test_split, cross_val_score, KFold\n",
    "import os\n",
    "from sklearn.metrics import r2_score\n",
    "from sklearn.metrics import accuracy_score\n",
    "from sklearn.metrics import roc_auc_score\n",
    "import glob"
   ]
  },
  {
   "cell_type": "code",
   "execution_count": 3,
   "metadata": {},
   "outputs": [],
   "source": [
    "file = os.getcwd()+\"/Dataset/data_binary.npz\"\n",
    "arr = np.load(file)['arr_0']\n",
    "\n",
    "X = arr[:,3:]\n",
    "y = arr[:,2]\n",
    "\n",
    "\n",
    "# Split data into training and testing sets\n",
    "X_train, X_test, y_train, y_test = train_test_split(X,y, test_size=0.2, random_state=42)\n"
   ]
  },
  {
   "cell_type": "code",
   "execution_count": 4,
   "metadata": {},
   "outputs": [],
   "source": [
    "file2 = \"/home/yashjonjale/Documents/intern_proj/Model/Dataset/final_data.npz\"\n",
    "arr2 = np.load(file2)['arr_0']\n",
    "\n",
    "y2 = arr2[:,2]"
   ]
  },
  {
   "cell_type": "code",
   "execution_count": 5,
   "metadata": {},
   "outputs": [],
   "source": [
    "path = \"/home/yashjonjale/Documents/intern_proj/Model/logs/clsfr_res/models/model*\"\n",
    "files = glob.glob(path)"
   ]
  },
  {
   "cell_type": "code",
   "execution_count": 6,
   "metadata": {},
   "outputs": [],
   "source": [
    "files.sort()"
   ]
  },
  {
   "cell_type": "code",
   "execution_count": 7,
   "metadata": {},
   "outputs": [
    {
     "data": {
      "text/plain": [
       "['/home/yashjonjale/Documents/intern_proj/Model/logs/clsfr_res/models/model_classf_100_0.8.json',\n",
       " '/home/yashjonjale/Documents/intern_proj/Model/logs/clsfr_res/models/model_classf_10_0.8.json',\n",
       " '/home/yashjonjale/Documents/intern_proj/Model/logs/clsfr_res/models/model_classf_150_0.8.json',\n",
       " '/home/yashjonjale/Documents/intern_proj/Model/logs/clsfr_res/models/model_classf_200_0.8.json',\n",
       " '/home/yashjonjale/Documents/intern_proj/Model/logs/clsfr_res/models/model_classf_20_0.8.json',\n",
       " '/home/yashjonjale/Documents/intern_proj/Model/logs/clsfr_res/models/model_classf_40_0.8.json',\n",
       " '/home/yashjonjale/Documents/intern_proj/Model/logs/clsfr_res/models/model_classf_50_0.8.json',\n",
       " '/home/yashjonjale/Documents/intern_proj/Model/logs/clsfr_res/models/model_classf_5_0.8.json']"
      ]
     },
     "execution_count": 7,
     "metadata": {},
     "output_type": "execute_result"
    }
   ],
   "source": [
    "files"
   ]
  },
  {
   "cell_type": "code",
   "execution_count": 8,
   "metadata": {},
   "outputs": [
    {
     "name": "stderr",
     "output_type": "stream",
     "text": [
      "/home/yashjonjale/.local/lib/python3.10/site-packages/xgboost/core.py:158: UserWarning: [13:57:54] WARNING: /workspace/src/learner.cc:872: Found JSON model saved before XGBoost 1.6, please save the model using current version again. The support for old JSON model will be discontinued in XGBoost 2.3.\n",
      "  warnings.warn(smsg, UserWarning)\n"
     ]
    }
   ],
   "source": [
    "#load a classifier model from the file\n",
    "model = xgb.XGBClassifier()\n",
    "model.load_model(files[-1])\n",
    "#describe the model\n",
    "print(model)\n"
   ]
  },
  {
   "cell_type": "code",
   "execution_count": 10,
   "metadata": {},
   "outputs": [
    {
     "ename": "",
     "evalue": "",
     "output_type": "error",
     "traceback": [
      "\u001b[1;31mThe Kernel crashed while executing code in the current cell or a previous cell. \n",
      "\u001b[1;31mPlease review the code in the cell(s) to identify a possible cause of the failure. \n",
      "\u001b[1;31mClick <a href='https://aka.ms/vscodeJupyterKernelCrash'>here</a> for more info. \n",
      "\u001b[1;31mView Jupyter <a href='command:jupyter.viewOutput'>log</a> for further details."
     ]
    }
   ],
   "source": [
    "#predict the labels of the test set\n",
    "y_pred = model.predict(X)"
   ]
  },
  {
   "cell_type": "code",
   "execution_count": null,
   "metadata": {},
   "outputs": [],
   "source": [
    "#find indices where abs of y2 is less than 0.2, 0.4, 0.6, 0.8, 1.0, 1.2, 1.4, 1.6, 1.8, 2.0\n",
    "ind = np.where(np.abs(y2)<0.2)\n",
    "ind2 = np.where(np.abs(y2)<0.4)\n",
    "ind3 = np.where(np.abs(y2)<0.6)\n",
    "ind4 = np.where(np.abs(y2)<0.8)\n",
    "ind5 = np.where(np.abs(y2)<1.0)\n",
    "ind6 = np.where(np.abs(y2)<1.2)\n",
    "ind7 = np.where(np.abs(y2)<1.4)\n",
    "ind8 = np.where(np.abs(y2)<1.6)\n",
    "ind9 = np.where(np.abs(y2)<1.8)\n",
    "ind10 = np.where(np.abs(y2)<2.0)\n",
    "\n",
    "accs = []\n",
    "rocs = []\n",
    "for i in [ind, ind2, ind3, ind4, ind5, ind6, ind7, ind8, ind9, ind10]:\n",
    "    X_curr = X[i]\n",
    "    y_curr = y[i]\n",
    "    y_pred_curr = model.predict(X_curr)\n",
    "    accs.append(accuracy_score(y_curr, y_pred_curr))\n",
    "    rocs.append(roc_auc_score(y_curr, y_pred_curr))\n"
   ]
  },
  {
   "cell_type": "code",
   "execution_count": null,
   "metadata": {},
   "outputs": [],
   "source": [
    "#Plotting the accuracy and roc_auc_score\n",
    "import matplotlib.pyplot as plt\n",
    "\n",
    "plt.plot([0.2, 0.4, 0.6, 0.8, 1.0, 1.2, 1.4, 1.6, 1.8, 2.0], accs, label='Accuracy')\n",
    "plt.plot([0.2, 0.4, 0.6, 0.8, 1.0, 1.2, 1.4, 1.6, 1.8, 2.0], rocs, label='ROC AUC Score')\n",
    "plt.xlabel('Threshold')\n",
    "plt.ylabel('Score')\n",
    "plt.legend()\n",
    "plt.show()\n"
   ]
  },
  {
   "cell_type": "code",
   "execution_count": null,
   "metadata": {},
   "outputs": [],
   "source": [
    "#find indices where the abs of y2 is between 0.2 and 0.4, 0.4 and 0.6, 0.6 and 0.8, 0.8 and 1.0, 1.0 and 1.2, 1.2 and 1.4, 1.4 and 1.6, 1.6 and 1.8, 1.8 and 2.0\n",
    "ind = np.where((np.abs(y2)>0.0) & (np.abs(y2)<0.2))\n",
    "ind1 = np.where((np.abs(y2)>0.2) & (np.abs(y2)<0.4))\n",
    "ind2 = np.where((np.abs(y2)>0.4) & (np.abs(y2)<0.6))\n",
    "ind3 = np.where((np.abs(y2)>0.6) & (np.abs(y2)<0.8))\n",
    "ind4 = np.where((np.abs(y2)>0.8) & (np.abs(y2)<1.0))\n",
    "ind5 = np.where((np.abs(y2)>1.0) & (np.abs(y2)<1.2))\n",
    "ind6 = np.where((np.abs(y2)>1.2) & (np.abs(y2)<1.4))\n",
    "ind7 = np.where((np.abs(y2)>1.4) & (np.abs(y2)<1.6))\n",
    "ind8 = np.where((np.abs(y2)>1.6) & (np.abs(y2)<1.8))\n",
    "ind9 = np.where((np.abs(y2)>1.8) & (np.abs(y2)<2.0))\n",
    "\n",
    "accs = []\n",
    "rocs = []\n",
    "\n",
    "for i in [ind, ind1, ind2, ind3, ind4, ind5, ind6, ind7, ind8, ind9]:\n",
    "    X_curr = X[i]\n",
    "    y_curr = y[i]\n",
    "    y_pred_curr = model.predict(X_curr)\n",
    "    accs.append(accuracy_score(y_curr, y_pred_curr))\n",
    "    rocs.append(roc_auc_score(y_curr, y_pred_curr))\n"
   ]
  }
 ],
 "metadata": {
  "kernelspec": {
   "display_name": "Python 3",
   "language": "python",
   "name": "python3"
  },
  "language_info": {
   "codemirror_mode": {
    "name": "ipython",
    "version": 3
   },
   "file_extension": ".py",
   "mimetype": "text/x-python",
   "name": "python",
   "nbconvert_exporter": "python",
   "pygments_lexer": "ipython3",
   "version": "3.10.12"
  }
 },
 "nbformat": 4,
 "nbformat_minor": 2
}
