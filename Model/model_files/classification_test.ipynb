{
 "cells": [
  {
   "cell_type": "code",
   "execution_count": 1,
   "metadata": {},
   "outputs": [],
   "source": [
    "import xgboost as xgb\n",
    "import pandas as pd\n",
    "from sklearn.model_selection import train_test_split\n",
    "from sklearn.metrics import accuracy_score, roc_auc_score\n",
    "import numpy as np"
   ]
  },
  {
   "cell_type": "code",
   "execution_count": 2,
   "metadata": {},
   "outputs": [],
   "source": [
    "file = \"/home/yashjonjale/Documents/intern_proj/Model/Dataset/data_binary.npz\"\n",
    "arr = np.load(file)['arr_0']\n",
    "\n",
    "X = arr[:,3:]\n",
    "y = arr[:,2]\n",
    "\n",
    "\n",
    "# Split data into training and testing sets\n",
    "X_train, X_test, y_train, y_test = train_test_split(X,y, test_size=0.2, random_state=42)\n"
   ]
  },
  {
   "cell_type": "code",
   "execution_count": 3,
   "metadata": {},
   "outputs": [
    {
     "data": {
      "text/plain": [
       "(92896, 2560)"
      ]
     },
     "execution_count": 3,
     "metadata": {},
     "output_type": "execute_result"
    }
   ],
   "source": [
    "X.shape"
   ]
  },
  {
   "cell_type": "code",
   "execution_count": 5,
   "metadata": {},
   "outputs": [
    {
     "data": {
      "text/plain": [
       "(92896,)"
      ]
     },
     "execution_count": 5,
     "metadata": {},
     "output_type": "execute_result"
    }
   ],
   "source": [
    "y.shape"
   ]
  },
  {
   "cell_type": "code",
   "execution_count": 6,
   "metadata": {},
   "outputs": [
    {
     "ename": "",
     "evalue": "",
     "output_type": "error",
     "traceback": [
      "\u001b[1;31mThe Kernel crashed while executing code in the current cell or a previous cell. \n",
      "\u001b[1;31mPlease review the code in the cell(s) to identify a possible cause of the failure. \n",
      "\u001b[1;31mClick <a href='https://aka.ms/vscodeJupyterKernelCrash'>here</a> for more info. \n",
      "\u001b[1;31mView Jupyter <a href='command:jupyter.viewOutput'>log</a> for further details."
     ]
    }
   ],
   "source": [
    "\n",
    "# Define the XGBoost classifier\n",
    "xgb_clf = xgb.XGBClassifier(\n",
    "    objective='binary:logistic',  # Objective function for binary classification\n",
    "    learning_rate=0.1,            # Step size shrinkage used to prevent overfitting\n",
    "    n_estimators=100,             # Number of gradient boosted trees\n",
    "    max_depth=4,                  # Maximum tree depth for base learners\n",
    "    min_child_weight=1,           # Minimum sum of instance weight (hessian) needed in a child\n",
    "    gamma=0,                      # Minimum loss reduction required to make a further partition on a leaf node\n",
    "    subsample=0.8,                # Subsample ratio of the training instances\n",
    "    colsample_bytree=0.8,         # Subsample ratio of columns when constructing each tree\n",
    "    reg_alpha=0.01,               # L1 regularization term on weights\n",
    "    reg_lambda=1.0                # L2 regularization term on weights\n",
    ")\n",
    "\n",
    "# Train the model\n",
    "xgb_clf.fit(X_train, y_train)"
   ]
  },
  {
   "cell_type": "code",
   "execution_count": null,
   "metadata": {},
   "outputs": [],
   "source": [
    "\n",
    "# Predictions\n",
    "y_pred = xgb_clf.predict(X_test)\n",
    "y_prob = xgb_clf.predict_proba(X_test)[:, 1]  # Probabilities for the positive class\n",
    "\n",
    "# Evaluation\n",
    "accuracy = accuracy_score(y_test, y_pred)\n",
    "roc_auc = roc_auc_score(y_test, y_prob)\n",
    "print(f\" Test Accuracy: {accuracy:.2f}\")\n",
    "print(f\"ROC AUC Score: {roc_auc:.2f}\")\n",
    "\n",
    "# Save the model\n",
    "xgb_clf.save_model(\"xgb_model_classification.json\")\n",
    "\n",
    "#find accuracy for train as well\n",
    "\n",
    "y_pred_train = xgb_clf.predict(X_train)\n",
    "y_prob_train = xgb_clf.predict_proba(X_train)[:, 1]  # Probabilities for the positive class\n",
    "\n",
    "# Evaluation\n",
    "accuracy_train = accuracy_score(y_train, y_pred_train)\n",
    "roc_auc_train = roc_auc_score(y_train, y_prob_train)\n",
    "print(f\" Train Accuracy: {accuracy_train:.2f}\")\n",
    "print(f\"ROC AUC Score: {roc_auc_train:.2f}\")\n"
   ]
  }
 ],
 "metadata": {
  "kernelspec": {
   "display_name": "Python 3",
   "language": "python",
   "name": "python3"
  },
  "language_info": {
   "codemirror_mode": {
    "name": "ipython",
    "version": 3
   },
   "file_extension": ".py",
   "mimetype": "text/x-python",
   "name": "python",
   "nbconvert_exporter": "python",
   "pygments_lexer": "ipython3",
   "version": "3.10.12"
  }
 },
 "nbformat": 4,
 "nbformat_minor": 2
}
