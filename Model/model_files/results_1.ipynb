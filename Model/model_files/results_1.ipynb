{
 "cells": [
  {
   "cell_type": "code",
   "execution_count": 1,
   "metadata": {},
   "outputs": [],
   "source": [
    "import numpy as np\n",
    "import json\n",
    "from matplotlib import pyplot as plt"
   ]
  },
  {
   "cell_type": "code",
   "execution_count": 6,
   "metadata": {},
   "outputs": [],
   "source": [
    "p1  = \"/home/yashjonjale/Documents/intern_proj/Model/logs/params/24_6/best_params_5.json\"\n",
    "p2 = \"/home/yashjonjale/Documents/intern_proj/Model/logs/params/24_6/best_params_entire.json\"\n",
    "p3 = \"/home/yashjonjale/Documents/intern_proj/Model/logs/params/24_6/best_params_entire_2.json\"\n",
    "p4 = \"/home/yashjonjale/Documents/intern_proj/Model/logs/params/24_6/best_params_entire_3.json\""
   ]
  },
  {
   "cell_type": "code",
   "execution_count": 7,
   "metadata": {},
   "outputs": [],
   "source": [
    "# load the json files from the paths\n",
    "with open(p1) as f:\n",
    "    data1 = json.load(f)\n",
    "with open(p2) as f:\n",
    "    data2 = json.load(f)\n",
    "with open(p3) as f:\n",
    "    data3 = json.load(f)\n",
    "with open(p4) as f:\n",
    "    data4 = json.load(f)"
   ]
  },
  {
   "cell_type": "code",
   "execution_count": 8,
   "metadata": {},
   "outputs": [],
   "source": [
    "#load the final_data.npz\n",
    "final_data = np.load(\"/home/yashjonjale/Documents/intern_proj/Model/Dataset/final_data.npz\")\n",
    "arr = final_data['arr_0']"
   ]
  },
  {
   "cell_type": "code",
   "execution_count": 9,
   "metadata": {},
   "outputs": [
    {
     "data": {
      "image/png": "[encoded data removed]",
      "text/plain": [
       "<Figure size 432x288 with 1 Axes>"
      ]
     },
     "metadata": {
      "needs_background": "light"
     },
     "output_type": "display_data"
    }
   ],
   "source": [
    "sim_vecs = arr[:, 0]\n",
    "sim_vecs = np.array(sim_vecs)\n",
    "sim_vecs = sim_vecs.reshape(-1, 1)\n",
    "#mean\n",
    "mean = np.mean(sim_vecs)\n",
    "#std\n",
    "std = np.std(sim_vecs)\n",
    "#variance\n",
    "var = np.var(sim_vecs)\n",
    "#median\n",
    "median = np.median(sim_vecs)\n",
    "#min\n",
    "min_val = np.min(sim_vecs)\n",
    "#max\n",
    "max_val = np.max(sim_vecs)\n",
    "\n",
    "#plot the histogram\n",
    "plt.hist(sim_vecs, bins=50)\n",
    "plt.show()"
   ]
  },
  {
   "cell_type": "code",
   "execution_count": 10,
   "metadata": {},
   "outputs": [
    {
     "name": "stdout",
     "output_type": "stream",
     "text": [
      "mean:  0.988531611417001\n",
      "std:  0.013866960267468352\n",
      "var:  0.00019229258705954596\n",
      "median:  0.9928586735630986\n",
      "min:  0.8794161318827849\n",
      "max:  1.0000000000000002\n"
     ]
    }
   ],
   "source": [
    "# print the statistics\n",
    "print(\"mean: \", mean)\n",
    "print(\"std: \", std)\n",
    "print(\"var: \", var)\n",
    "print(\"median: \", median)\n",
    "print(\"min: \", min_val)\n",
    "print(\"max: \", max_val)\n"
   ]
  },
  {
   "cell_type": "code",
   "execution_count": 17,
   "metadata": {},
   "outputs": [
    {
     "ename": "ImportError",
     "evalue": "cannot import name '_HTMLDocumentationLinkMixin' from 'sklearn.utils._estimator_html_repr' (/home/yashjonjale/.local/lib/python3.10/site-packages/sklearn/utils/_estimator_html_repr.py)",
     "output_type": "error",
     "traceback": [
      "\u001b[0;31m---------------------------------------------------------------------------\u001b[0m",
      "\u001b[0;31mImportError\u001b[0m                               Traceback (most recent call last)",
      "\u001b[0;32m/tmp/ipykernel_114117/4239399205.py\u001b[0m in \u001b[0;36m<module>\u001b[0;34m\u001b[0m\n\u001b[1;32m      1\u001b[0m \u001b[0;32mimport\u001b[0m \u001b[0mxgboost\u001b[0m \u001b[0;32mas\u001b[0m \u001b[0mxgb\u001b[0m\u001b[0;34m\u001b[0m\u001b[0;34m\u001b[0m\u001b[0m\n\u001b[0;32m----> 2\u001b[0;31m \u001b[0;32mfrom\u001b[0m \u001b[0msklearn\u001b[0m\u001b[0;34m.\u001b[0m\u001b[0mmodel_selection\u001b[0m \u001b[0;32mimport\u001b[0m \u001b[0mtrain_test_split\u001b[0m\u001b[0;34m\u001b[0m\u001b[0;34m\u001b[0m\u001b[0m\n\u001b[0m\u001b[1;32m      3\u001b[0m \u001b[0;32mfrom\u001b[0m \u001b[0msklearn\u001b[0m\u001b[0;34m.\u001b[0m\u001b[0mmetrics\u001b[0m \u001b[0;32mimport\u001b[0m \u001b[0mmean_squared_error\u001b[0m\u001b[0;34m\u001b[0m\u001b[0;34m\u001b[0m\u001b[0m\n\u001b[1;32m      4\u001b[0m \u001b[0;31m#r2score\u001b[0m\u001b[0;34m\u001b[0m\u001b[0;34m\u001b[0m\u001b[0m\n\u001b[1;32m      5\u001b[0m \u001b[0;32mfrom\u001b[0m \u001b[0msklearn\u001b[0m\u001b[0;34m.\u001b[0m\u001b[0mmetrics\u001b[0m \u001b[0;32mimport\u001b[0m \u001b[0mr2_score\u001b[0m\u001b[0;34m\u001b[0m\u001b[0;34m\u001b[0m\u001b[0m\n",
      "\u001b[0;32m~/.local/lib/python3.10/site-packages/sklearn/__init__.py\u001b[0m in \u001b[0;36m<module>\u001b[0;34m\u001b[0m\n\u001b[1;32m     94\u001b[0m         \u001b[0m_distributor_init\u001b[0m\u001b[0;34m,\u001b[0m  \u001b[0;31m# noqa: F401\u001b[0m\u001b[0;34m\u001b[0m\u001b[0;34m\u001b[0m\u001b[0m\n\u001b[1;32m     95\u001b[0m     )\n\u001b[0;32m---> 96\u001b[0;31m     \u001b[0;32mfrom\u001b[0m \u001b[0;34m.\u001b[0m\u001b[0mbase\u001b[0m \u001b[0;32mimport\u001b[0m \u001b[0mclone\u001b[0m\u001b[0;34m\u001b[0m\u001b[0;34m\u001b[0m\u001b[0m\n\u001b[0m\u001b[1;32m     97\u001b[0m     \u001b[0;32mfrom\u001b[0m \u001b[0;34m.\u001b[0m\u001b[0mutils\u001b[0m\u001b[0;34m.\u001b[0m\u001b[0m_show_versions\u001b[0m \u001b[0;32mimport\u001b[0m \u001b[0mshow_versions\u001b[0m\u001b[0;34m\u001b[0m\u001b[0;34m\u001b[0m\u001b[0m\n\u001b[1;32m     98\u001b[0m \u001b[0;34m\u001b[0m\u001b[0m\n",
      "\u001b[0;32m~/.local/lib/python3.10/site-packages/sklearn/base.py\u001b[0m in \u001b[0;36m<module>\u001b[0;34m\u001b[0m\n\u001b[1;32m     17\u001b[0m \u001b[0;32mfrom\u001b[0m \u001b[0;34m.\u001b[0m\u001b[0m_config\u001b[0m \u001b[0;32mimport\u001b[0m \u001b[0mconfig_context\u001b[0m\u001b[0;34m,\u001b[0m \u001b[0mget_config\u001b[0m\u001b[0;34m\u001b[0m\u001b[0;34m\u001b[0m\u001b[0m\n\u001b[1;32m     18\u001b[0m \u001b[0;32mfrom\u001b[0m \u001b[0;34m.\u001b[0m\u001b[0mexceptions\u001b[0m \u001b[0;32mimport\u001b[0m \u001b[0mInconsistentVersionWarning\u001b[0m\u001b[0;34m\u001b[0m\u001b[0;34m\u001b[0m\u001b[0m\n\u001b[0;32m---> 19\u001b[0;31m \u001b[0;32mfrom\u001b[0m \u001b[0;34m.\u001b[0m\u001b[0mutils\u001b[0m\u001b[0;34m.\u001b[0m\u001b[0m_estimator_html_repr\u001b[0m \u001b[0;32mimport\u001b[0m \u001b[0m_HTMLDocumentationLinkMixin\u001b[0m\u001b[0;34m,\u001b[0m \u001b[0mestimator_html_repr\u001b[0m\u001b[0;34m\u001b[0m\u001b[0;34m\u001b[0m\u001b[0m\n\u001b[0m\u001b[1;32m     20\u001b[0m \u001b[0;32mfrom\u001b[0m \u001b[0;34m.\u001b[0m\u001b[0mutils\u001b[0m\u001b[0;34m.\u001b[0m\u001b[0m_metadata_requests\u001b[0m \u001b[0;32mimport\u001b[0m \u001b[0m_MetadataRequester\u001b[0m\u001b[0;34m,\u001b[0m \u001b[0m_routing_enabled\u001b[0m\u001b[0;34m\u001b[0m\u001b[0;34m\u001b[0m\u001b[0m\n\u001b[1;32m     21\u001b[0m \u001b[0;32mfrom\u001b[0m \u001b[0;34m.\u001b[0m\u001b[0mutils\u001b[0m\u001b[0;34m.\u001b[0m\u001b[0m_param_validation\u001b[0m \u001b[0;32mimport\u001b[0m \u001b[0mvalidate_parameter_constraints\u001b[0m\u001b[0;34m\u001b[0m\u001b[0;34m\u001b[0m\u001b[0m\n",
      "\u001b[0;31mImportError\u001b[0m: cannot import name '_HTMLDocumentationLinkMixin' from 'sklearn.utils._estimator_html_repr' (/home/yashjonjale/.local/lib/python3.10/site-packages/sklearn/utils/_estimator_html_repr.py)"
     ]
    }
   ],
   "source": [
    "import xgboost as xgb\n",
    "from sklearn.model_selection import train_test_split\n",
    "from sklearn.metrics import mean_squared_error\n",
    "#r2score\n",
    "from sklearn.metrics import r2_score\n",
    "X = arr[:, 3:]\n",
    "y = arr[:, 2]\n",
    "real = arr[:, 1]#km_wildtype\n",
    "#find indices where sim_vecs is greater than 0.99\n",
    "indices = np.where(sim_vecs>0.99)\n",
    "indices = indices[0]\n",
    "#remove the indices from X,y,real\n",
    "X = np.delete(X, indices, axis=0)\n",
    "y = np.delete(y, indices, axis=0)\n",
    "real = np.delete(real, indices, axis=0)\n",
    "sz = 0.2\n",
    "\n",
    "X_train, X_test, y_train, y_test,r_train,r_test = train_test_split(X, y,real, test_size=(1-sz), random_state=42)\n",
    "D_train=xgb.DMatrix(data=X_test, label=y_test)\n",
    "D_test=xgb.DMatrix(data=X_train, label=y_train)\n"
   ]
  },
  {
   "cell_type": "code",
   "execution_count": null,
   "metadata": {},
   "outputs": [],
   "source": [
    "print(f\"Following are the results for best_params_5_3200\")\n",
    "best = data3\n",
    "num_round = best['num_rounds']\n",
    "del best['num_rounds']\n",
    "params={'max_depth': int(np.round(best['max_depth'])),\n",
    "        'learning_rate': best['learning_rate'],\n",
    "        'min_child_weight': best['min_child_weight'],\n",
    "        'reg_alpha': best['reg_alpha'],  # L1 regularization\n",
    "        'reg_lambda': best['reg_lambda'],  # L2 regularization\n",
    "        'tree_method': 'gpu_hist',  # Use GPU\n",
    "        'predictor': 'gpu_predictor',  # Use GPU for predictions\n",
    "        'sampling_method': 'gradient_based',\n",
    "        'eval_metric': 'rmse'}\n",
    "best_model = xgb.train(params, xgb.DMatrix(X_train,label=y_train), int(num_round), verbose_eval=False)\n",
    "predictions = best_model.predict(xgb.DMatrix(X_test, label=y_test)) \n",
    "test_accuracy = r2_score(y_test + r_test, predictions + r_test)\n",
    "print(\"Test Accuracy (km_vals): {:.2f}\".format(test_accuracy))\n",
    "test_acc_deltas = r2_score(y_test, predictions)\n",
    "print(\"Test Accuracy (delta): {:.2f}\".format(test_acc_deltas))\n",
    "\n",
    "#find the training accuracy\n",
    "predictions = best_model.predict(xgb.DMatrix(X_train, label=y_train))\n",
    "train_accuracy = r2_score(y_train + r_train, predictions + r_train)\n",
    "print(\"Train Accuracy (km_vals): {:.2f}\".format(train_accuracy))\n",
    "# make a scatter plot\n",
    "plt.scatter(y_test +r_test, predictions+r_test)\n",
    "plt.xlabel(\"True Values\")\n",
    "plt.ylabel(\"Predictions\")\n",
    "plt.show()\n"
   ]
  },
  {
   "cell_type": "code",
   "execution_count": 5,
   "metadata": {},
   "outputs": [
    {
     "name": "stdout",
     "output_type": "stream",
     "text": [
      "[[0.   0.  ]\n",
      " [0.11 0.22]\n",
      " [0.33 0.44]\n",
      " [0.56 0.67]\n",
      " [0.78 0.89]\n",
      " [1.   1.  ]]\n"
     ]
    }
   ],
   "source": [
    "#now we will make multiple intervals of y and sim_vecs, and find the r2 score for each interval\n",
    "\n",
    "# make the different intervals ina a grid\n",
    "intervals = list(np.linspace(0, 2, 11))\n",
    "intervals_ = list(np.array([0.9999,0.999,0.99,0.9]))\n",
    "r2_scores = []\n",
    "for k in range(4):\n",
    "    r2_scores.append([])\n",
    "\n",
    "for i in range(1,len(intervals)):\n",
    "    up = intervals[i]\n",
    "    down = intervals[i-1]\n",
    "    # find the indices where y is in the interval\n",
    "    for j in range(0,len(intervals_)):\n",
    "        threshold = intervals_[j]\n",
    "        indices = np.where((y>=down) & (y<=up) & (sim_vecs>=threshold))\n",
    "        indices = indices[0]\n",
    "        if len(indices) == 0:\n",
    "            continue\n",
    "        # find the r2 score\n",
    "        predictions = best_model.predict(xgb.DMatrix(X[indices], label=y[indices]))\n",
    "        r2 = r2_score(y[indices], predictions[indices])\n",
    "        r2_scores[j].append(r2)\n",
    "        print(f\"Interval: {down} to {up} and {threshold} has r2 score: {r2}\")\n",
    "    \n",
    "# plot the r2 scores\n",
    "# make a meshgrid\n",
    "X, Y = np.meshgrid(intervals, intervals_)\n",
    "r2_scores = np.array(r2_scores)\n",
    "fig = plt.figure()\n",
    "ax = fig.add_subplot(111, projection='3d')\n",
    "ax.plot_surface(X, Y, r2_scores, cmap='viridis')\n",
    "ax.set_xlabel('Interval')\n",
    "ax.set_ylabel('Threshold')\n",
    "ax.set_zlabel('r2_score')\n",
    "plt.show()\n",
    "\n",
    "#use plotly for an interacting surface plot and save to html file\n",
    "import plotly.graph_objects as go\n",
    "fig = go.Figure(data=[go.Surface(z=r2_scores, x=intervals, y=intervals_)])\n",
    "fig.update_layout(title='r2 scores for different intervals and thresholds',\n",
    "                  scene = dict(\n",
    "                    xaxis_title='Interval',\n",
    "                    yaxis_title='Threshold',\n",
    "                    zaxis_title='r2_score'))\n",
    "fig.show()\n",
    "\n",
    "fig.write_html(\"/home/yashjonjale/Documents/intern_proj/Model/logs/params/24_6/r2_scores.html\")\n",
    "\n",
    "    \n",
    "\n"
   ]
  },
  {
   "cell_type": "code",
   "execution_count": null,
   "metadata": {},
   "outputs": [],
   "source": [
    "#Now find indices in r_test for which the value is greater than 0.95\n",
    "indices = np.where(r_test > 0.95)\n",
    "#Now make a scatter plot for these indices\n",
    "plt.scatter(y_test[indices], predictions[indices])\n",
    "plt.xlabel(\"True Values\")\n",
    "plt.ylabel(\"Predictions\")\n",
    "\n",
    "plt.show()\n",
    "\n",
    "#find r2 score for these indices\n",
    "r2 = r2_score(y_test[indices]+r_test[indices], predictions[indices]+r_test[indices])\n",
    "print(\"R2 score for values greater than 0.95: \", r2)"
   ]
  },
  {
   "cell_type": "code",
   "execution_count": null,
   "metadata": {},
   "outputs": [],
   "source": [
    "#make scatter plots for different ranges of r_test\n",
    "indices = np.where(r_test < 0.95)\n",
    "plt.scatter(y_test[indices][0], predictions[indices])\n",
    "plt.xlabel(\"True Values\")\n",
    "plt.ylabel(\"Predictions\")\n",
    "plt.show()"
   ]
  },
  {
   "cell_type": "code",
   "execution_count": null,
   "metadata": {},
   "outputs": [],
   "source": [
    "#make a plot of r2 scores for different ranges of r_test\n",
    "# make the ranges\n",
    "ranges = np.linspace(-5, 5, 11)\n",
    "r2_scores = []\n",
    "for i in range(10):\n",
    "    indices = np.where((r_test > ranges[i]) & (r_test < ranges[i+1]))\n",
    "    r2 = r2_score(y_test[indices]+r_test[indices], predictions[indices]+r_test[indices])\n",
    "    r2_scores.append(r2)"
   ]
  }
 ],
 "metadata": {
  "kernelspec": {
   "display_name": "Python 3",
   "language": "python",
   "name": "python3"
  },
  "language_info": {
   "codemirror_mode": {
    "name": "ipython",
    "version": 3
   },
   "file_extension": ".py",
   "mimetype": "text/x-python",
   "name": "python",
   "nbconvert_exporter": "python",
   "pygments_lexer": "ipython3",
   "version": "3.10.12"
  }
 },
 "nbformat": 4,
 "nbformat_minor": 2
}
