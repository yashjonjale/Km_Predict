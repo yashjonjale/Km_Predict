{
 "cells": [
  {
   "cell_type": "code",
   "execution_count": 1,
   "metadata": {},
   "outputs": [],
   "source": [
    "import numpy as np\n",
    "import pandas as pd\n"
   ]
  },
  {
   "cell_type": "code",
   "execution_count": 2,
   "metadata": {},
   "outputs": [],
   "source": [
    "dat = np.load(\"/home/yashjonjale/Documents/intern_proj/Dataset/final_dat/final_data.npz\")"
   ]
  },
  {
   "cell_type": "code",
   "execution_count": null,
   "metadata": {},
   "outputs": [],
   "source": []
  },
  {
   "cell_type": "code",
   "execution_count": 4,
   "metadata": {},
   "outputs": [
    {
     "name": "stdout",
     "output_type": "stream",
     "text": [
      "['arr_0']\n"
     ]
    }
   ],
   "source": [
    "# view dat as numpy array\n",
    "print(dat.files)\n"
   ]
  },
  {
   "cell_type": "code",
   "execution_count": 5,
   "metadata": {},
   "outputs": [
    {
     "name": "stdout",
     "output_type": "stream",
     "text": [
      "[[ 9.99993642e-01 -1.74472749e+00 -2.13085395e-01 ...  3.22781600e-03\n",
      "   1.25018000e-03  8.82849000e-04]\n",
      " [ 9.93978875e-01 -1.74472749e+00  8.41845869e-01 ...  2.00400620e-02\n",
      "  -6.66612300e-02  6.41136940e-02]\n",
      " [ 9.93860202e-01 -1.74472749e+00  2.81005451e+00 ...  2.19550100e-02\n",
      "  -6.46369700e-02  6.59636440e-02]\n",
      " ...\n",
      " [ 9.96869491e-01 -2.61798296e+00  6.60170068e-01 ...  3.10304800e-02\n",
      "   7.42890300e-02  8.36639800e-03]\n",
      " [ 9.93093007e-01 -2.61798296e+00  1.71510133e+00 ...  4.78427260e-02\n",
      "   6.37762000e-03  7.15972430e-02]\n",
      " [ 9.92985424e-01 -2.61798296e+00  3.68330997e+00 ...  4.97576740e-02\n",
      "   8.40188000e-03  7.34471930e-02]]\n"
     ]
    }
   ],
   "source": [
    "print(dat['arr_0'])"
   ]
  },
  {
   "cell_type": "code",
   "execution_count": 7,
   "metadata": {},
   "outputs": [],
   "source": [
    "a = np.array(dat['arr_0'])\n",
    "#save as csv\n",
    "np.savetxt(\"/home/yashjonjale/Documents/intern_proj/Dataset/final_dat//final_data.csv\", a, delimiter=\",\")"
   ]
  },
  {
   "cell_type": "code",
   "execution_count": 8,
   "metadata": {},
   "outputs": [
    {
     "data": {
      "text/plain": [
       "(20, 2563)"
      ]
     },
     "execution_count": 8,
     "metadata": {},
     "output_type": "execute_result"
    }
   ],
   "source": [
    "a.shape"
   ]
  },
  {
   "cell_type": "code",
   "execution_count": null,
   "metadata": {},
   "outputs": [],
   "source": []
  }
 ],
 "metadata": {
  "kernelspec": {
   "display_name": "Python 3",
   "language": "python",
   "name": "python3"
  },
  "language_info": {
   "codemirror_mode": {
    "name": "ipython",
    "version": 3
   },
   "file_extension": ".py",
   "mimetype": "text/x-python",
   "name": "python",
   "nbconvert_exporter": "python",
   "pygments_lexer": "ipython3",
   "version": "3.10.12"
  }
 },
 "nbformat": 4,
 "nbformat_minor": 2
}
