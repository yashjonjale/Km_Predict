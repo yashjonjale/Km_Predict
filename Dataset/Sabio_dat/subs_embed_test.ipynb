{
 "cells": [
  {
   "cell_type": "code",
   "execution_count": 2,
   "metadata": {},
   "outputs": [
    {
     "data": {
      "application/vnd.jupyter.widget-view+json": {
       "model_id": "97cd4d4996894260bc0ec01d700ed5f0",
       "version_major": 2,
       "version_minor": 0
      },
      "text/plain": [
       "tokenizer_config.json:   0%|          | 0.00/166 [00:00<?, ?B/s]"
      ]
     },
     "metadata": {},
     "output_type": "display_data"
    },
    {
     "data": {
      "application/vnd.jupyter.widget-view+json": {
       "model_id": "85ed641293984e2e9f4067b35210d141",
       "version_major": 2,
       "version_minor": 0
      },
      "text/plain": [
       "vocab.json:   0%|          | 0.00/9.43k [00:00<?, ?B/s]"
      ]
     },
     "metadata": {},
     "output_type": "display_data"
    },
    {
     "data": {
      "application/vnd.jupyter.widget-view+json": {
       "model_id": "dd86bc14187d4451abfd60df881707f4",
       "version_major": 2,
       "version_minor": 0
      },
      "text/plain": [
       "merges.txt:   0%|          | 0.00/3.21k [00:00<?, ?B/s]"
      ]
     },
     "metadata": {},
     "output_type": "display_data"
    },
    {
     "data": {
      "application/vnd.jupyter.widget-view+json": {
       "model_id": "05ad15c436804bf486db9004ceadbb76",
       "version_major": 2,
       "version_minor": 0
      },
      "text/plain": [
       "special_tokens_map.json:   0%|          | 0.00/150 [00:00<?, ?B/s]"
      ]
     },
     "metadata": {},
     "output_type": "display_data"
    },
    {
     "data": {
      "application/vnd.jupyter.widget-view+json": {
       "model_id": "1b10984b7c2d4c4b8c9b7b0fc0b060aa",
       "version_major": 2,
       "version_minor": 0
      },
      "text/plain": [
       "config.json:   0%|          | 0.00/501 [00:00<?, ?B/s]"
      ]
     },
     "metadata": {},
     "output_type": "display_data"
    },
    {
     "data": {
      "application/vnd.jupyter.widget-view+json": {
       "model_id": "cd4cee4b80ff400784b9cd290280519b",
       "version_major": 2,
       "version_minor": 0
      },
      "text/plain": [
       "pytorch_model.bin:   0%|          | 0.00/179M [00:00<?, ?B/s]"
      ]
     },
     "metadata": {},
     "output_type": "display_data"
    }
   ],
   "source": [
    "from transformers import RobertaTokenizer, RobertaModel\n",
    "\n",
    "# Load the ChemBERTa tokenizer and model\n",
    "tokenizer = RobertaTokenizer.from_pretrained('seyonec/ChemBERTa-zinc-base-v1')\n",
    "model = RobertaModel.from_pretrained('seyonec/ChemBERTa-zinc-base-v1')\n",
    "\n",
    "\n",
    "\n",
    "# Example SMILES string\n",
    "smiles = 'CCO'\n",
    "\n",
    "# Tokenize the SMILES string\n",
    "inputs = tokenizer(smiles, return_tensors='pt')\n",
    "\n",
    "# Get the model outputs\n",
    "outputs = model(**inputs)\n",
    "\n",
    "# The output is a tuple with the last hidden state as the first element\n",
    "last_hidden_state = outputs[0]\n"
   ]
  },
  {
   "cell_type": "code",
   "execution_count": 3,
   "metadata": {},
   "outputs": [
    {
     "name": "stdout",
     "output_type": "stream",
     "text": [
      "torch.Size([1, 3, 768])\n"
     ]
    }
   ],
   "source": [
    "print(last_hidden_state.shape)"
   ]
  },
  {
   "cell_type": "code",
   "execution_count": 4,
   "metadata": {},
   "outputs": [
    {
     "data": {
      "text/plain": [
       "tensor([[[ 0.8511,  2.1786, -0.7335,  ..., -0.2723, -1.0461,  0.6268],\n",
       "         [ 1.3393,  1.9692, -0.6810,  ...,  0.0738,  0.0690, -0.2010],\n",
       "         [ 1.2621,  2.0117, -0.7737,  ..., -0.2274, -1.0789,  0.6698]]],\n",
       "       grad_fn=<NativeLayerNormBackward0>)"
      ]
     },
     "execution_count": 4,
     "metadata": {},
     "output_type": "execute_result"
    }
   ],
   "source": [
    "last_hidden_state"
   ]
  },
  {
   "cell_type": "code",
   "execution_count": 5,
   "metadata": {},
   "outputs": [],
   "source": [
    "mean1 = last_hidden_state.mean(dim=1)"
   ]
  },
  {
   "cell_type": "code",
   "execution_count": 7,
   "metadata": {},
   "outputs": [
    {
     "data": {
      "text/plain": [
       "torch.Size([1, 768])"
      ]
     },
     "execution_count": 7,
     "metadata": {},
     "output_type": "execute_result"
    }
   ],
   "source": [
    "mean1.shape"
   ]
  },
  {
   "cell_type": "code",
   "execution_count": 8,
   "metadata": {},
   "outputs": [],
   "source": [
    "from transformers import RobertaTokenizer, RobertaModel\n",
    "\n",
    "# Download the tokenizer and model and save them locally\n",
    "tokenizer = RobertaTokenizer.from_pretrained('seyonec/ChemBERTa-zinc-base-v1')\n",
    "model = RobertaModel.from_pretrained('seyonec/ChemBERTa-zinc-base-v1')\n",
    "\n",
    "# Save the tokenizer and model locally\n",
    "tokenizer.save_pretrained('./ChemBERTa-tokenizer')\n",
    "model.save_pretrained('./ChemBERTa-model')\n"
   ]
  },
  {
   "cell_type": "code",
   "execution_count": 9,
   "metadata": {},
   "outputs": [],
   "source": [
    "tokenizer = RobertaTokenizer.from_pretrained('./ChemBERTa-tokenizer')\n",
    "model = RobertaModel.from_pretrained('./ChemBERTa-model')\n",
    "\n",
    "# Example SMILES string\n",
    "smiles = 'CCO'\n",
    "\n",
    "# Tokenize the SMILES string\n",
    "inputs = tokenizer(smiles, return_tensors='pt')\n",
    "\n",
    "# Get the model outputs\n",
    "outputs = model(**inputs)\n",
    "\n",
    "# The output is a tuple with the last hidden state as the first element\n",
    "last_hidden_state = outputs[0]\n"
   ]
  },
  {
   "cell_type": "code",
   "execution_count": 10,
   "metadata": {},
   "outputs": [
    {
     "data": {
      "text/plain": [
       "torch.Size([1, 3, 768])"
      ]
     },
     "execution_count": 10,
     "metadata": {},
     "output_type": "execute_result"
    }
   ],
   "source": [
    "last_hidden_state.shape"
   ]
  },
  {
   "cell_type": "code",
   "execution_count": 16,
   "metadata": {},
   "outputs": [
    {
     "ename": "ValueError",
     "evalue": "SMILES not found for substrate: reduced acetylpyridine adenine dinucleotide",
     "output_type": "error",
     "traceback": [
      "\u001b[0;31m---------------------------------------------------------------------------\u001b[0m",
      "\u001b[0;31mValueError\u001b[0m                                Traceback (most recent call last)",
      "\u001b[0;32m/tmp/ipykernel_68908/3481769481.py\u001b[0m in \u001b[0;36m<module>\u001b[0;34m\u001b[0m\n\u001b[1;32m     37\u001b[0m \u001b[0;31m# Example usage\u001b[0m\u001b[0;34m\u001b[0m\u001b[0;34m\u001b[0m\u001b[0m\n\u001b[1;32m     38\u001b[0m \u001b[0msubstrate_name\u001b[0m \u001b[0;34m=\u001b[0m \u001b[0;34m\"reduced acetylpyridine adenine dinucleotide\"\u001b[0m\u001b[0;34m\u001b[0m\u001b[0;34m\u001b[0m\u001b[0m\n\u001b[0;32m---> 39\u001b[0;31m \u001b[0membedding\u001b[0m \u001b[0;34m=\u001b[0m \u001b[0msubstrate_to_embedding\u001b[0m\u001b[0;34m(\u001b[0m\u001b[0msubstrate_name\u001b[0m\u001b[0;34m)\u001b[0m\u001b[0;34m\u001b[0m\u001b[0;34m\u001b[0m\u001b[0m\n\u001b[0m\u001b[1;32m     40\u001b[0m \u001b[0;34m\u001b[0m\u001b[0m\n\u001b[1;32m     41\u001b[0m \u001b[0mprint\u001b[0m\u001b[0;34m(\u001b[0m\u001b[0;34mf\"Embedding for {substrate_name}:\"\u001b[0m\u001b[0;34m)\u001b[0m\u001b[0;34m\u001b[0m\u001b[0;34m\u001b[0m\u001b[0m\n",
      "\u001b[0;32m/tmp/ipykernel_68908/3481769481.py\u001b[0m in \u001b[0;36msubstrate_to_embedding\u001b[0;34m(name)\u001b[0m\n\u001b[1;32m     33\u001b[0m         \u001b[0;32mreturn\u001b[0m \u001b[0membedding\u001b[0m\u001b[0;34m\u001b[0m\u001b[0;34m\u001b[0m\u001b[0m\n\u001b[1;32m     34\u001b[0m     \u001b[0;32melse\u001b[0m\u001b[0;34m:\u001b[0m\u001b[0;34m\u001b[0m\u001b[0;34m\u001b[0m\u001b[0m\n\u001b[0;32m---> 35\u001b[0;31m         \u001b[0;32mraise\u001b[0m \u001b[0mValueError\u001b[0m\u001b[0;34m(\u001b[0m\u001b[0;34mf\"SMILES not found for substrate: {name}\"\u001b[0m\u001b[0;34m)\u001b[0m\u001b[0;34m\u001b[0m\u001b[0;34m\u001b[0m\u001b[0m\n\u001b[0m\u001b[1;32m     36\u001b[0m \u001b[0;34m\u001b[0m\u001b[0m\n\u001b[1;32m     37\u001b[0m \u001b[0;31m# Example usage\u001b[0m\u001b[0;34m\u001b[0m\u001b[0;34m\u001b[0m\u001b[0m\n",
      "\u001b[0;31mValueError\u001b[0m: SMILES not found for substrate: reduced acetylpyridine adenine dinucleotide"
     ]
    }
   ],
   "source": [
    "import torch\n",
    "from transformers import RobertaTokenizer, RobertaModel\n",
    "import pubchempy as pcp\n",
    "\n",
    "# Load the ChemBERTa tokenizer and model from local files\n",
    "tokenizer = RobertaTokenizer.from_pretrained('./ChemBERTa-tokenizer')\n",
    "model = RobertaModel.from_pretrained('./ChemBERTa-model')\n",
    "\n",
    "def name_to_smiles_pubchem(name):\n",
    "    \"\"\"Convert a chemical name to a SMILES string using PubChemPy.\"\"\"\n",
    "    compounds = pcp.get_compounds(name, 'name')\n",
    "    if compounds:\n",
    "        return compounds[0].canonical_smiles\n",
    "    else:\n",
    "        return None\n",
    "\n",
    "def smiles_to_embedding(smiles):\n",
    "    \"\"\"Convert a SMILES string to a ChemBERTa embedding.\"\"\"\n",
    "    inputs = tokenizer(smiles, return_tensors='pt')\n",
    "    with torch.no_grad():\n",
    "        outputs = model(**inputs)\n",
    "    # The output is a tuple with the last hidden state as the first element\n",
    "    last_hidden_state = outputs[0]\n",
    "    # We typically use the embedding of the [CLS] token (first token)\n",
    "    embedding = last_hidden_state[:, 0, :]\n",
    "    return embedding\n",
    "\n",
    "def substrate_to_embedding(name):\n",
    "    \"\"\"Convert a substrate name to a ChemBERTa embedding.\"\"\"\n",
    "    smiles = name_to_smiles_pubchem(name)\n",
    "    if smiles:\n",
    "        embedding = smiles_to_embedding(smiles)\n",
    "        return embedding\n",
    "    else:\n",
    "        raise ValueError(f\"SMILES not found for substrate: {name}\")\n",
    "\n",
    "# Example usage\n",
    "substrate_name = \"reduced acetylpyridine adenine dinucleotide\"\n",
    "embedding = substrate_to_embedding(substrate_name)\n",
    "\n",
    "print(f\"Embedding for {substrate_name}:\")\n",
    "print(embedding)\n"
   ]
  }
 ],
 "metadata": {
  "kernelspec": {
   "display_name": "Python 3",
   "language": "python",
   "name": "python3"
  },
  "language_info": {
   "codemirror_mode": {
    "name": "ipython",
    "version": 3
   },
   "file_extension": ".py",
   "mimetype": "text/x-python",
   "name": "python",
   "nbconvert_exporter": "python",
   "pygments_lexer": "ipython3",
   "version": "3.10.12"
  }
 },
 "nbformat": 4,
 "nbformat_minor": 2
}
