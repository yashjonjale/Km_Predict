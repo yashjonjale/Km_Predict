{
 "cells": [
  {
   "cell_type": "code",
   "execution_count": 14,
   "metadata": {},
   "outputs": [],
   "source": [
    "import pandas as pd\n",
    "lst = []"
   ]
  },
  {
   "cell_type": "code",
   "execution_count": 15,
   "metadata": {},
   "outputs": [],
   "source": [
    "#make an empty dataframe\n",
    "df = pd.DataFrame(lst)\n",
    "df = pd.DataFrame([])\n"
   ]
  },
  {
   "cell_type": "code",
   "execution_count": 16,
   "metadata": {},
   "outputs": [
    {
     "data": {
      "text/plain": [
       "RangeIndex(start=0, stop=0, step=1)"
      ]
     },
     "execution_count": 16,
     "metadata": {},
     "output_type": "execute_result"
    }
   ],
   "source": [
    "df.columns"
   ]
  },
  {
   "cell_type": "code",
   "execution_count": 17,
   "metadata": {},
   "outputs": [
    {
     "data": {
      "text/plain": [
       "0"
      ]
     },
     "execution_count": 17,
     "metadata": {},
     "output_type": "execute_result"
    }
   ],
   "source": [
    "len(df)"
   ]
  },
  {
   "cell_type": "code",
   "execution_count": 4,
   "metadata": {},
   "outputs": [],
   "source": [
    "import json\n",
    "import pandas as pd\n",
    "import numpy as np\n",
    "import os"
   ]
  },
  {
   "cell_type": "code",
   "execution_count": 5,
   "metadata": {},
   "outputs": [],
   "source": [
    "#load json file\n",
    "with open(os.getcwd()+'/brenda_2023_1.json') as f:\n",
    "    d = json.load(f)"
   ]
  },
  {
   "cell_type": "code",
   "execution_count": 6,
   "metadata": {},
   "outputs": [],
   "source": [
    "data = d['data']"
   ]
  },
  {
   "cell_type": "code",
   "execution_count": 7,
   "metadata": {},
   "outputs": [],
   "source": [
    "ec = data['1.1.1.108']"
   ]
  },
  {
   "cell_type": "code",
   "execution_count": 9,
   "metadata": {},
   "outputs": [
    {
     "data": {
      "text/plain": [
       "dict_keys(['id', 'name', 'systematic_name', 'synonyms', 'cofactor', 'inhibitor', 'subunits', 'engineering', 'cloned', 'application', 'reaction_type', 'purification', 'generic_reaction', 'natural_reaction', 'reaction', 'turnover_number', 'km_value', 'ph_optimum', 'ph_stability', 'specific_activity', 'temperature_optimum', 'temperature_range', 'temperature_stability', 'molecular_weight', 'organisms', 'references', 'proteins'])"
      ]
     },
     "execution_count": 9,
     "metadata": {},
     "output_type": "execute_result"
    }
   ],
   "source": [
    "ec.keys()"
   ]
  },
  {
   "cell_type": "code",
   "execution_count": 10,
   "metadata": {},
   "outputs": [],
   "source": [
    "km = ec['km_value']"
   ]
  },
  {
   "cell_type": "code",
   "execution_count": 12,
   "metadata": {},
   "outputs": [
    {
     "data": {
      "text/plain": [
       "95"
      ]
     },
     "execution_count": 12,
     "metadata": {},
     "output_type": "execute_result"
    }
   ],
   "source": [
    "len(km)"
   ]
  },
  {
   "cell_type": "code",
   "execution_count": 13,
   "metadata": {},
   "outputs": [
    {
     "name": "stdout",
     "output_type": "stream",
     "text": [
      "{'comment': '#11# mutant lacking 162 C-terminal residues, pH 8.5, 30°C <14>', 'proteins': ['11'], 'organisms': ['11'], 'references': ['14'], 'value': 'carnitine', 'num_value': 1.0}\n",
      "{'comment': '#11# wild-type, pH 8.5, 30°C <14>', 'proteins': ['11'], 'organisms': ['11'], 'references': ['14'], 'value': 'carnitine', 'num_value': 1.2}\n",
      "{'comment': '#11# mutant lacking 162 C-terminal residues, pH 8.5, 30°C <14>', 'proteins': ['11'], 'organisms': ['11'], 'references': ['14'], 'value': '3-dehydrocarnitine', 'num_value': 1.2}\n",
      "{'comment': '#11# mutant lacking 162 C-terminal residues, pH 8.5, 30°C <14>', 'proteins': ['11'], 'organisms': ['11'], 'references': ['14'], 'value': 'NAD+', 'num_value': 0.019}\n",
      "{'organisms': ['2'], 'references': ['9'], 'value': 'NAD+', 'num_value': 0.16}\n",
      "{'organisms': ['2'], 'references': ['7', '9'], 'value': '3-dehydrocarnitine', 'num_value': 1.3}\n",
      "{'organisms': ['2'], 'references': ['7', '9'], 'value': 'NADH', 'num_value': 0.022}\n",
      "{'organisms': ['2'], 'references': ['4'], 'value': 'L-carnitine', 'num_value': 5.0}\n",
      "{'comment': '#2# at pH 9.5 <9>', 'organisms': ['2'], 'references': ['9'], 'value': 'L-carnitine', 'num_value': 26.0}\n",
      "{'organisms': ['2'], 'references': ['10'], 'value': 'L-carnitine', 'num_value': 8.5}\n"
     ]
    }
   ],
   "source": [
    "k=0\n",
    "for i in km:\n",
    "    k+=1\n",
    "    if k>10:\n",
    "        break\n",
    "    print(i)\n",
    "    input()"
   ]
  },
  {
   "cell_type": "code",
   "execution_count": 14,
   "metadata": {},
   "outputs": [],
   "source": [
    "engg = ec['engineering']    "
   ]
  },
  {
   "cell_type": "code",
   "execution_count": 16,
   "metadata": {},
   "outputs": [
    {
     "data": {
      "text/plain": [
       "dict_keys(['comment', 'organisms', 'references', 'value'])"
      ]
     },
     "execution_count": 16,
     "metadata": {},
     "output_type": "execute_result"
    }
   ],
   "source": [
    "engg[0].keys()"
   ]
  },
  {
   "cell_type": "code",
   "execution_count": 18,
   "metadata": {},
   "outputs": [],
   "source": [
    "organism = engg[0]['organisms']"
   ]
  },
  {
   "cell_type": "code",
   "execution_count": 19,
   "metadata": {},
   "outputs": [
    {
     "data": {
      "text/plain": [
       "['6']"
      ]
     },
     "execution_count": 19,
     "metadata": {},
     "output_type": "execute_result"
    }
   ],
   "source": [
    "organism"
   ]
  },
  {
   "cell_type": "code",
   "execution_count": 20,
   "metadata": {},
   "outputs": [
    {
     "data": {
      "text/plain": [
       "['16']"
      ]
     },
     "execution_count": 20,
     "metadata": {},
     "output_type": "execute_result"
    }
   ],
   "source": [
    "engg[0]['references']"
   ]
  },
  {
   "cell_type": "code",
   "execution_count": 22,
   "metadata": {},
   "outputs": [
    {
     "name": "stdout",
     "output_type": "stream",
     "text": [
      "{'comment': '#6# mutant enzyme Y140S, at pH 9.5 and 30°C <16>', 'organisms': ['6'], 'references': ['16'], 'value': 'NAD+', 'num_value': 0.21}\n"
     ]
    }
   ],
   "source": [
    "for x in km:\n",
    "    try:\n",
    "        ref = x['references']\n",
    "        if '16' in ref:\n",
    "            print(x)\n",
    "            break\n",
    "    except:\n",
    "        continue"
   ]
  }
 ],
 "metadata": {
  "kernelspec": {
   "display_name": "Python 3",
   "language": "python",
   "name": "python3"
  },
  "language_info": {
   "codemirror_mode": {
    "name": "ipython",
    "version": 3
   },
   "file_extension": ".py",
   "mimetype": "text/x-python",
   "name": "python",
   "nbconvert_exporter": "python",
   "pygments_lexer": "ipython3",
   "version": "3.10.12"
  }
 },
 "nbformat": 4,
 "nbformat_minor": 2
}
