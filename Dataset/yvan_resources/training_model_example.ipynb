{
 "cells": [
  {
   "cell_type": "code",
   "execution_count": null,
   "metadata": {},
   "outputs": [],
   "source": []
  },
  {
   "cell_type": "code",
   "execution_count": null,
   "metadata": {},
   "outputs": [],
   "source": [
    "import numpy as np\n",
    "import pickle\n",
    "import pandas as pd\n",
    "import os\n",
    "from os.path import join\n",
    "import warnings\n",
    "warnings.filterwarnings(\"ignore\")\n",
    "from sklearn.metrics import r2_score\n",
    "from scipy import stats\n",
    "import xgboost as xgb\n",
    "\n",
    "import matplotlib.pyplot as plt\n",
    "from matplotlib.pyplot import figure\n",
    "import matplotlib as mpl\n"
   ]
  },
  {
   "cell_type": "markdown",
   "metadata": {},
   "source": [
    "# A. rxnfp reproduction\n"
   ]
  },
  {
   "cell_type": "markdown",
   "metadata": {},
   "source": [
    "With previous hyperparameter optimization"
   ]
  },
  {
   "cell_type": "code",
   "execution_count": null,
   "metadata": {},
   "outputs": [],
   "source": [
    "data_train =   pd.read_pickle(join(\"data\" , \"kcat_data\", \"splits\", \"modified_splits\", \"train_df_kcat_rxnfp.pkl\"))\n",
    "data_test  =   pd.read_pickle(join(\"data\" , \"kcat_data\", \"splits\", \"modified_splits\", \"test_df_kcat_rxnfp.pkl\"))"
   ]
  },
  {
   "cell_type": "code",
   "execution_count": null,
   "metadata": {},
   "outputs": [],
   "source": [
    "data_train =   pd.read_pickle(\"/home/yvan/Desktop/BERT_ft_enzymatic_reactions/data_new/kcat_data/splits/train_df_kcat_rxnfp_repro2.pkl\")\n",
    "data_test  =   pd.read_pickle(\"/home/yvan/Desktop/BERT_ft_enzymatic_reactions/data_new/kcat_data/splits/test_df_kcat_rxnfp_repro2.pkl\")"
   ]
  },
  {
   "cell_type": "code",
   "execution_count": null,
   "metadata": {},
   "outputs": [],
   "source": [
    "train_X = np.array(list(data_train[\"rxnfp\"]))\n",
    "train_Y = np.array(list(data_train[\"log10_kcat\"]))\n",
    "\n",
    "test_X = np.array(list(data_test[\"rxnfp\"]))\n",
    "test_Y = np.array(list(data_test[\"log10_kcat\"]))\n",
    "\n",
    "train_indices = list(np.load(join( \"data\",\"kcat_data\",\"splits\",\"CV_train_indices.npy\"), allow_pickle = True))\n",
    "test_indices = list(np.load(join( \"data\",\"kcat_data\",\"splits\",\"CV_test_indices.npy\"), allow_pickle = True))"
   ]
  },
  {
   "cell_type": "code",
   "execution_count": null,
   "metadata": {},
   "outputs": [],
   "source": [
    "param = {\n",
    "    \"learning_rate\": 0.04933913947630953,\n",
    "    \"max_delta_step\": 2.548116839939456,\n",
    "    \"max_depth\": 7.51666173394416,\n",
    "    \"min_child_weight\": 4.517403135970991,\n",
    "    \"num_rounds\": 146.52346851005683,\n",
    "    \"reg_alpha\": 1.989495668303869,\n",
    "    \"reg_lambda\": 0.5876902849399113\n",
    "}\n",
    "\n",
    "num_round = param[\"num_rounds\"]\n",
    "param[\"max_depth\"] = int(np.round(param[\"max_depth\"]))\n",
    "\n",
    "del param[\"num_rounds\"]"
   ]
  },
  {
   "cell_type": "code",
   "execution_count": null,
   "metadata": {},
   "outputs": [
    {
     "name": "stdout",
     "output_type": "stream",
     "text": [
      "[0.5568630444269154, 0.5857452035180237, 0.5571659855018288, 0.5790982861324072, 0.5779793769211048]\n",
      "[0.9068863712875874, 0.8305728110243333, 0.9215306191499872, 1.0675509913915044, 1.0070897770806566]\n",
      "[0.3098495915724485, 0.3409420332449373, 0.3034387403370621, 0.33424210620890726, 0.33394881062574955]\n"
     ]
    }
   ],
   "source": [
    "R2 = []\n",
    "MSE = []\n",
    "Pearson = []\n",
    "y_valid_pred_RXNFP = []\n",
    "\n",
    "for i in range(5):\n",
    "    train_index, test_index  = train_indices[i], test_indices[i]\n",
    "    dtrain = xgb.DMatrix(train_X[train_index], label = train_Y[train_index])\n",
    "    dvalid = xgb.DMatrix(train_X[test_index])\n",
    "    \n",
    "    bst = xgb.train(param, dtrain, int(num_round), verbose_eval=False)\n",
    "    \n",
    "    y_valid_pred = bst.predict(dvalid)\n",
    "    y_valid_pred_RXNFP.append(y_valid_pred)\n",
    "    MSE.append(np.mean(abs(np.reshape(train_Y[test_index], (-1)) - y_valid_pred)**2))\n",
    "    R2.append(r2_score(np.reshape(train_Y[test_index], (-1)), y_valid_pred))\n",
    "    Pearson.append(stats.pearsonr(np.reshape(train_Y[test_index], (-1)), y_valid_pred)[0])\n",
    "\n",
    "print(Pearson)\n",
    "print(MSE)\n",
    "print(R2)"
   ]
  },
  {
   "cell_type": "code",
   "execution_count": null,
   "metadata": {},
   "outputs": [],
   "source": [
    "[0.3098495915724485, 0.3409420332449373, 0.3034387403370621, 0.33424210620890726, 0.33394881062574955]"
   ]
  },
  {
   "cell_type": "code",
   "execution_count": null,
   "metadata": {},
   "outputs": [],
   "source": [
    "np.save(join( \"data\", \"training_results\", \"Pearson_CV_xgboost_rxnfp.npy\"), np.array(Pearson))\n",
    "np.save(join( \"data\", \"training_results\", \"MSE_CV_xgboost_rxnfp.npy\"), np.array(MSE))\n",
    "np.save(join(  \"data\", \"training_results\", \"R2_CV_xgboost_rxnfp.npy\"), np.array(R2))"
   ]
  },
  {
   "cell_type": "code",
   "execution_count": null,
   "metadata": {},
   "outputs": [
    {
     "name": "stdout",
     "output_type": "stream",
     "text": [
      "0.618 0.89 0.379\n"
     ]
    }
   ],
   "source": [
    "dtrain = xgb.DMatrix(train_X, label = train_Y)\n",
    "dtest = xgb.DMatrix(test_X, label = test_Y)\n",
    "\n",
    "\n",
    "bst = xgb.train(param, dtrain, int(num_round), verbose_eval=False)\n",
    "\n",
    "y_test_pred = bst.predict(dtest)\n",
    "MSE_dif_fp_test = np.mean(abs(np.reshape(test_Y, (-1)) - y_test_pred)**2)\n",
    "R2_dif_fp_test = r2_score(np.reshape(test_Y, (-1)), y_test_pred)\n",
    "Pearson = stats.pearsonr(np.reshape(test_Y, (-1)), y_test_pred)\n",
    "\n",
    "print(np.round(Pearson[0],3) ,np.round(MSE_dif_fp_test,3), np.round(R2_dif_fp_test,3))\n",
    "\n"
   ]
  },
  {
   "cell_type": "code",
   "execution_count": null,
   "metadata": {},
   "outputs": [],
   "source": [
    "\n",
    "np.save(join( \"data\", \"training_results\", \"y_test_pred_xgboost_rxnfp.npy\"), bst.predict(dtest))\n",
    "np.save(join( \"data\", \"training_results\", \"y_test_true_xgboost_rxnfp.npy\"), test_Y)"
   ]
  },
  {
   "cell_type": "code",
   "execution_count": null,
   "metadata": {},
   "outputs": [],
   "source": [
    "#y_valid_pred_RXNFP\n",
    "y_test_pred_rxnfp = y_test_pred"
   ]
  }
 ],
 "metadata": {
  "language_info": {
   "name": "python"
  },
  "orig_nbformat": 4
 },
 "nbformat": 4,
 "nbformat_minor": 2
}
